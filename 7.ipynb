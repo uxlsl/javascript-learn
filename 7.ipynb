{
 "cells": [
  {
   "cell_type": "code",
   "execution_count": 1,
   "metadata": {},
   "outputs": [],
   "source": [
    "var a = new Array(5);"
   ]
  },
  {
   "cell_type": "code",
   "execution_count": 2,
   "metadata": {},
   "outputs": [
    {
     "data": {
      "text/plain": [
       "[ , , , ,  ]"
      ]
     },
     "execution_count": 2,
     "metadata": {},
     "output_type": "execute_result"
    }
   ],
   "source": [
    "a"
   ]
  },
  {
   "cell_type": "code",
   "execution_count": 3,
   "metadata": {},
   "outputs": [
    {
     "data": {
      "text/plain": [
       "100"
      ]
     },
     "execution_count": 3,
     "metadata": {},
     "output_type": "execute_result"
    }
   ],
   "source": [
    "a[100] = 100"
   ]
  },
  {
   "cell_type": "code",
   "execution_count": 5,
   "metadata": {},
   "outputs": [
    {
     "data": {
      "text/plain": [
       "2"
      ]
     },
     "execution_count": 5,
     "metadata": {},
     "output_type": "execute_result"
    }
   ],
   "source": [
    "var a=[];\n",
    "a[1] = 1;\n",
    "a[2] = 2;\n"
   ]
  },
  {
   "cell_type": "code",
   "execution_count": 6,
   "metadata": {},
   "outputs": [
    {
     "data": {
      "text/plain": [
       "3"
      ]
     },
     "execution_count": 6,
     "metadata": {},
     "output_type": "execute_result"
    }
   ],
   "source": [
    "a.length"
   ]
  },
  {
   "cell_type": "markdown",
   "metadata": {},
   "source": [
    "## 稀疏数组\n",
    "稀疏数组就是包含从0开始的不连续索引的数组。通常，数组的length属性值代表数组中元素的个数。如果数组是稀疏的，length属性值大于元素的个数。可以用Array()构造函数或简单地指定数组的索引值大于当前的数组长度来创建稀疏数组"
   ]
  },
  {
   "cell_type": "code",
   "execution_count": 7,
   "metadata": {},
   "outputs": [
    {
     "data": {
      "text/plain": [
       "0"
      ]
     },
     "execution_count": 7,
     "metadata": {},
     "output_type": "execute_result"
    }
   ],
   "source": [
    "a=new Array(5);//数组没有元素，但是a.length是5\n",
    "a=[];//创建一个空数组，length=0\n",
    "a[1000]=0;//赋值添加一个元素，但是设置length为1001"
   ]
  },
  {
   "cell_type": "markdown",
   "metadata": {},
   "source": [
    "## 数组长度\n",
    "+ 针对稠密（也就是非稀疏）数组，length属性值代表数组中元素的个数\n",
    "+ 当数组是稀疏的时，length属性值大于元素的个数。"
   ]
  },
  {
   "cell_type": "markdown",
   "metadata": {},
   "source": [
    "## 数组元素的添加和删除\n",
    "删除数组元素与为其赋undefined值是类似的（但有一些微妙的区别）。注意，对一个数组元素使用delete不会修改数组的length属性，也不会将元素从高索引处移下来填充已删除属性留下的空白。如果从数组中删除一个元素，它就变成稀疏数组。"
   ]
  },
  {
   "cell_type": "markdown",
   "metadata": {},
   "source": [
    "##数组遍历\n",
    "\n",
    "```\n",
    "for(var i=0,len=keys.length;i＜len;i++){//循环体仍然不变\n",
    "}\n",
    "\n",
    "for(var i=0;i＜a.length;i++){\n",
    "if(!a[i])continue;//跳过null、undefined和不存在的元素\n",
    "//循环体\n",
    "}\n",
    "\n",
    "for(var i=0;i＜a.length;i++){\n",
    "if(a[i]===undefined)continue;//跳过undefined+不存在的元素\n",
    "//循环体\n",
    "}\n",
    "\n",
    "for(var i=0;i＜a.length;i++){\n",
    "if(!(i in a))continue;//跳过不存在的元素\n",
    "//循环体\n",
    "}\n",
    "\n",
    "```\n",
    "\n",
    "ECMAScript 5定义了一些遍历数组元素的新方法，按照索引的顺序按个传递给定义的一个函数。这些方法中最常用的就是forEach()方法：\n"
   ]
  },
  {
   "cell_type": "markdown",
   "metadata": {},
   "source": [
    "# 数组方法\n",
    "+ join\n",
    "+ reverse\n",
    "+ sort\n",
    "+ concat\n",
    "+ slice\n",
    "+ splice\n",
    "+ push\n",
    "+ pop\n",
    "+ unshift \n",
    "+ shift\n",
    "+ toString\n",
    "\n",
    "---ECMAScript 5 ---\n",
    "+ forEach\n",
    "+ map\n",
    "+ filter\n",
    "+ every \n",
    "+ reduce\n",
    "+ reduceRight\n",
    "+ indexOf\n",
    "+ lastindexOf\n"
   ]
  },
  {
   "cell_type": "code",
   "execution_count": null,
   "metadata": {},
   "outputs": [],
   "source": []
  },
  {
   "cell_type": "code",
   "execution_count": null,
   "metadata": {},
   "outputs": [],
   "source": []
  },
  {
   "cell_type": "code",
   "execution_count": null,
   "metadata": {},
   "outputs": [],
   "source": []
  },
  {
   "cell_type": "code",
   "execution_count": null,
   "metadata": {},
   "outputs": [],
   "source": [
    "\n"
   ]
  },
  {
   "cell_type": "code",
   "execution_count": null,
   "metadata": {},
   "outputs": [],
   "source": []
  }
 ],
 "metadata": {
  "kernelspec": {
   "display_name": "Javascript (Node.js)",
   "language": "javascript",
   "name": "javascript"
  },
  "language_info": {
   "file_extension": ".js",
   "mimetype": "application/javascript",
   "name": "javascript",
   "version": "6.11.3"
  }
 },
 "nbformat": 4,
 "nbformat_minor": 2
}
