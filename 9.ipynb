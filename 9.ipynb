{
 "cells": [
  {
   "cell_type": "code",
   "execution_count": 9,
   "metadata": {},
   "outputs": [],
   "source": [
    "function inherit(p) {\n",
    "  if (p == null) throw TypeError(); //p是一个对象，但不能是null\n",
    "  if (Object.create)\n",
    "    //如果Object.create()存在\n",
    "    return Object.create(p); //直接使用它\n",
    "  var t = typeof p; //否则进行进一步检测\n",
    "  if (t !== \"object\" && t !== \"function\") throw TypeError();\n",
    "  function f() {} //定义一个空构造函数\n",
    "  f.prototype = p; //将其原型属性设置为p\n",
    "  return new f(); //使用f()创建p的继承对象\n",
    "}\n"
   ]
  },
  {
   "cell_type": "code",
   "execution_count": null,
   "metadata": {},
   "outputs": [],
   "source": []
  },
  {
   "cell_type": "code",
   "execution_count": 10,
   "metadata": {},
   "outputs": [
    {
     "name": "stdout",
     "output_type": "stream",
     "text": [
      "1\n",
      "2\n",
      "3\n",
      "{ from: 1, to: 3 }\n"
     ]
    }
   ],
   "source": [
    "//range.js:实现一个能表示值的范围的类\n",
    "//这个工厂方法返回一个新的\"范围对象\"\n",
    "function range(from, to) {\n",
    "  //使用inherit()函数来创建对象,这个对象继承自在下面定义的原型对象\n",
    "  //原型对象作为函数的一个属性存储,并定义所有\"范围对象\"所共享的方法(行为)\n",
    "  var r = inherit(range.methods); //存储新的\"范围对象\"的起始位置和结束位置(状态)\n",
    "  //这两个属性是不可继承的,每个对象都拥有唯一的属性\n",
    "  r.from = from;\n",
    "  r.to = to; //返回这个新创建的对象\n",
    "  return r;\n",
    "}\n",
    "//原型对象定义方法,这些方法为每个范围对象所继承\n",
    "range.methods = {\n",
    "  //如果x在范围内,则返回true;否则返回false\n",
    "  //这个方法可以比较数字范围,也可以比较字符串和日期范围\n",
    "  includes: function(x) {\n",
    "    return this.from <= x && x <= this.to;\n",
    "  }, //对于范围内的每个整数都调用一次f\n",
    "  //这个方法只可用做数字范围\n",
    "  foreach: function(f) {\n",
    "    for (var x = Math.ceil(this.from); x <= this.to; x++) f(x);\n",
    "  }, //返回表示这个范围的字符串\n",
    "  toString: function() {\n",
    "    return \"(\" + this.from + \"...\" + this.to + \")\";\n",
    "  }\n",
    "}; //这里是使用\"范围对象\"的一些例子\n",
    "var r = range(1, 3); //创建一个范围对象\n",
    "r.includes(2); //=>true:2在这个范围内\n",
    "r.foreach(console.log); //输出1 2 3\n",
    "console.log(r); //输出(1...3)\n",
    "\n",
    "\n"
   ]
  },
  {
   "cell_type": "code",
   "execution_count": 11,
   "metadata": {},
   "outputs": [
    {
     "name": "stdout",
     "output_type": "stream",
     "text": [
      "1\n",
      "2\n",
      "3\n",
      "{ from: 1, to: 3 }\n"
     ]
    }
   ],
   "source": [
    "//range2.js:表示值的范围的类的另一种实现\n",
    "//这是一个构造函数,用以初始化新创建的\"范围对象\"\n",
    "//注意,这里并没有创建并返回一个对象,仅仅是初始化\n",
    "function Range(from, to) {\n",
    "  //存储\"范围对象\"的起始位置和结束位置(状态)\n",
    "  //这两个属性是不可继承的,每个对象都拥有唯一的属性\n",
    "  this.from = from;\n",
    "  this.to = to;\n",
    "}\n",
    "//所有的\"范围对象\"都继承自这个对象\n",
    "//注意,属性的名字必须是\"prototype\"\n",
    "Range.prototype = {\n",
    "  //如果x在范围内,则返回true;否则返回false\n",
    "  //这个方法可以比较数字范围,也可以比较字符串和日期范围\n",
    "  includes: function(x) {\n",
    "    return this.from <= x && x <= this.to;\n",
    "  }, //对于范围内的每个整数都调用一次f\n",
    "  //这个方法只可用于数字范围\n",
    "  foreach: function(f) {\n",
    "    for (var x = Math.ceil(this.from); x <= this.to; x++) f(x);\n",
    "  }, //返回表示这个范围的字符串\n",
    "  toString: function() {\n",
    "    return \"(\" + this.from + \"...\" + this.to + \")\";\n",
    "  }\n",
    "}; //这里是使用\"范围对象\"的一些例子\n",
    "var r = range(1, 3); //创建一个范围对象\n",
    "r.includes(2); //=>true:2在这个范围内\n",
    "r.foreach(console.log); //输出1 2 3\n",
    "console.log(r); //输出(1...3)\n",
    "\n",
    "\n"
   ]
  },
  {
   "cell_type": "code",
   "execution_count": 12,
   "metadata": {},
   "outputs": [],
   "source": [
    "var r = new Range(1,3)"
   ]
  },
  {
   "cell_type": "code",
   "execution_count": 13,
   "metadata": {},
   "outputs": [
    {
     "data": {
      "text/plain": [
       "{ from: 1, to: 3 }"
      ]
     },
     "execution_count": 13,
     "metadata": {},
     "output_type": "execute_result"
    }
   ],
   "source": [
    "r"
   ]
  },
  {
   "cell_type": "code",
   "execution_count": 14,
   "metadata": {},
   "outputs": [
    {
     "name": "stdout",
     "output_type": "stream",
     "text": [
      "1\n",
      "2\n",
      "3\n"
     ]
    }
   ],
   "source": [
    "r.foreach(console.log)"
   ]
  },
  {
   "cell_type": "code",
   "execution_count": 15,
   "metadata": {},
   "outputs": [
    {
     "data": {
      "text/plain": [
       "true"
      ]
     },
     "execution_count": 15,
     "metadata": {},
     "output_type": "execute_result"
    }
   ],
   "source": [
    "var F=function(){};//这是一个函数对象\n",
    "var p=F.prototype;//这是F相关联的原型对象\n",
    "var c=p.constructor;//这是与原型相关联的函数\n",
    "c===F//=＞true:对于任意函数F.prototype.constructor==F"
   ]
  },
  {
   "cell_type": "code",
   "execution_count": 16,
   "metadata": {},
   "outputs": [
    {
     "data": {
      "text/plain": [
       "F {}"
      ]
     },
     "execution_count": 16,
     "metadata": {},
     "output_type": "execute_result"
    }
   ],
   "source": [
    "p"
   ]
  },
  {
   "cell_type": "code",
   "execution_count": 17,
   "metadata": {},
   "outputs": [],
   "source": [
    "/*\n",
    "*把p中的可枚举属性复制到o中,并返回o\n",
    "*如果o和p中含有同名属性,则覆盖o中的属性\n",
    "*这个函数并不处理getter和setter以及复制属性\n",
    "*/\n",
    "function extend(o, p) {\n",
    "  for (prop in p) {\n",
    "    //遍历p中的所有属性\n",
    "    o[prop] = p[prop]; //将属性添加至o中\n",
    "  }\n",
    "  return o;\n",
    "}\n",
    "\n",
    "\n",
    "\n",
    "//一个用以定义简单类的函数\n",
    "function defineClass(\n",
    "  constructor, //用以设置实例的属性的函数\n",
    "  methods, //实例的方法,复制至原型中\n",
    "  statics //类属性,复制至构造函数中\n",
    ") {\n",
    "  if (methods) extend(constructor.prototype, methods);\n",
    "  if (statics) extend(constructor, statics);\n",
    "  return constructor;\n",
    "}\n",
    "//这是Range类的另一个实现\n",
    "var SimpleRange = defineClass(\n",
    "  function(f, t) {\n",
    "    this.f = f;\n",
    "    this.t = t;\n",
    "  },\n",
    "  {\n",
    "    includes: function(x) {\n",
    "      return this.f <= x && x <= this.t;\n",
    "    },\n",
    "    toString: function() {\n",
    "      return this.f + \"...\" + this.t;\n",
    "    }\n",
    "  },\n",
    "  {\n",
    "    upto: function(t) {\n",
    "      return new SimpleRange(0, t);\n",
    "    }\n",
    "  }\n",
    ");\n",
    "\n",
    "\n"
   ]
  },
  {
   "cell_type": "code",
   "execution_count": 18,
   "metadata": {},
   "outputs": [
    {
     "data": {
      "text/plain": [
       "/^\\{([^,]+),([^}]+)\\}$/"
      ]
     },
     "execution_count": 18,
     "metadata": {},
     "output_type": "execute_result"
    }
   ],
   "source": [
    "/*\n",
    "*Complex.js:\n",
    "*这个文件定义了Complex类,用来描述复数\n",
    "*回忆一下,复数是实数和虚数的和,并且虚数i是-1的平方根\n",
    "*/\n",
    "/*\n",
    "*这个构造函数为它所创建的每个实例定义了实例字段r和i\n",
    "*这两个字段分别保存复数的实部和虚部\n",
    "*它们是对象的状态\n",
    "*/\n",
    "function Complex(real, imaginary) {\n",
    "  if (isNaN(real) || isNaN(imaginary))\n",
    "    //确保两个实参都是数字\n",
    "    throw new TypeError(); //如果不都是数字则抛出错误\n",
    "  this.r = real; //复数的实部\n",
    "  this.i = imaginary; //复数的虚部\n",
    "} /*\n",
    "*类的实例方法定义为原型对象的函数值属性\n",
    "*这里定义的方法可以被所有实例继承,并为它们提供共享的行为\n",
    "*需要注意的是,JavaScript的实例方法必须使用关键字this\n",
    "*来存取实例的字段\n",
    "*/\n",
    "//当前复数对象加上另外一个复数,并返回一个新的计算和值后的复数对象\n",
    "Complex.prototype.add = function(that) {\n",
    "  return new Complex(this.r + that.r, this.i + that.i);\n",
    "}; //当前复数乘以另外一个复数,并返回一个新的计算乘积之后的复数对象\n",
    "Complex.prototype.mul = function(that) {\n",
    "  return new Complex(\n",
    "    this.r * that.r - this.i * that.i,\n",
    "    this.r * that.i + this.i * that.r\n",
    "  );\n",
    "}; //计算复数的模,复数的模定义为原点(0,0)到复平面的距离\n",
    "Complex.prototype.mag = function() {\n",
    "  return Math.sqrt(this.r * this.r + this.i * this.i);\n",
    "}; //复数的求负运算\n",
    "Complex.prototype.neg = function() {\n",
    "  return new Complex(-this.r, -this.i);\n",
    "}; //将复数对象转换为一个字符串\n",
    "Complex.prototype.toString = function() {\n",
    "  return \"{\" + this.r + \",\" + this.i + \"}\";\n",
    "}; //检测当前复数对象是否和另外一个复数值相等\n",
    "Complex.prototype.equals = function(that) {\n",
    "  return (\n",
    "    that != null && //必须有定义且不能是null\n",
    "    that.constructor === Complex && //并且必须是Complex的实例\n",
    "    this.r === that.r &&\n",
    "    this.i === that.i\n",
    "  ); //并且必须包含相同的值\n",
    "}; /*\n",
    "*类字段(比如常量)和类方法直接定义为构造函数的属性\n",
    "*需要注意的是,类的方法通常不使用关键字this,\n",
    "*它们只对其参数进行操作\n",
    "*/\n",
    "//这里预定义了一些对复数运算有帮助的类字段\n",
    "//它们的命名全都是大写,用以表明它们是常量\n",
    "//(在ECMAScript 5中,还能设置这些类字段的属性为只读)\n",
    "Complex.ZERO = new Complex(0, 0);\n",
    "Complex.ONE = new Complex(1, 0);\n",
    "Complex.I = new Complex(0, 1); //这个类方法将由实例对象的toString方法返回的字符串格式解析为一个Complex对象\n",
    "//或者抛出一个类型错误异常\n",
    "Complex.parse = function(s) {\n",
    "  try {\n",
    "    //假设解析成功\n",
    "    var m = Complex._format.exec(s); //利用正则表达式进行匹配\n",
    "    return new Complex(parseFloat(m[1]), parseFloat(m[2]));\n",
    "  } catch (x) {\n",
    "    //如果解析失败则抛出异常\n",
    "    throw new TypeError(\"Can't parse'\" + s + \"'as a complex number.\");\n",
    "  }\n",
    "}; //定义类的\"私有\"字段,这个字段在Complex.parse()中用到了\n",
    "//下划线前缀表明它是类内部使用的,而不属于类的公有API的部分\n",
    "Complex._format = /^\\{([^,]+),([^}]+)\\}$/;\n",
    "\n",
    "\n",
    "\n"
   ]
  },
  {
   "cell_type": "code",
   "execution_count": 19,
   "metadata": {},
   "outputs": [
    {
     "data": {
      "text/plain": [
       "[Function]"
      ]
     },
     "execution_count": 19,
     "metadata": {},
     "output_type": "execute_result"
    }
   ],
   "source": [
    "//用一个简单的函数创建简单的子类\n",
    "function defineSubclass(\n",
    "  superclass, //父类的构造函数\n",
    "  constructor, //新的子类的构造函数\n",
    "  methods, //实例方法:复制至原型中\n",
    "  statics //类属性:复制至构造函数中\n",
    ") {\n",
    "  //建立子类的原型对象\n",
    "  constructor.prototype = inherit(superclass.prototype);\n",
    "  constructor.prototype.constructor = constructor; //像对常规类一样复制方法和类属性\n",
    "  if (methods) extend(constructor.prototype, methods);\n",
    "  if (statics) extend(constructor, statics); //返回这个类\n",
    "  return constructor;\n",
    "}\n",
    "//也可以通过父类构造函数的方法来做到这一点\n",
    "Function.prototype.extend = function(constructor, methods, statics) {\n",
    "  return defineSubclass(this, constructor, methods, statics);\n",
    "};\n",
    "\n",
    "\n",
    "\n",
    "\n"
   ]
  },
  {
   "cell_type": "code",
   "execution_count": 20,
   "metadata": {},
   "outputs": [],
   "source": [
    "function dog(age){\n",
    "    var r = inherit(dog.methods);\n",
    "    r.age = age\n",
    "    return r\n",
    "}"
   ]
  },
  {
   "cell_type": "code",
   "execution_count": 21,
   "metadata": {},
   "outputs": [
    {
     "data": {
      "text/plain": [
       "{ health: [Function: health] }"
      ]
     },
     "execution_count": 21,
     "metadata": {},
     "output_type": "execute_result"
    }
   ],
   "source": [
    "dog.methods = {\n",
    "    'health': function(){\n",
    "        if (this.age < 3){\n",
    "            return true\n",
    "        }\n",
    "        else\n",
    "            return false\n",
    "    }\n",
    "}"
   ]
  },
  {
   "cell_type": "code",
   "execution_count": 22,
   "metadata": {},
   "outputs": [],
   "source": [
    "var d = dog(10)"
   ]
  },
  {
   "cell_type": "code",
   "execution_count": 23,
   "metadata": {},
   "outputs": [
    {
     "data": {
      "text/plain": [
       "false"
      ]
     },
     "execution_count": 23,
     "metadata": {},
     "output_type": "execute_result"
    }
   ],
   "source": [
    "d.health()"
   ]
  },
  {
   "cell_type": "markdown",
   "metadata": {},
   "source": [
    "属性赋值操作首先检查原型链，以此判定是否允许赋值操作。例如，如果o继承自一个只读属性x，那么赋值操作是不允许的（6.2.3节将对此进行详细讨论）。"
   ]
  },
  {
   "cell_type": "code",
   "execution_count": 24,
   "metadata": {},
   "outputs": [
    {
     "data": {
      "text/plain": [
       "1"
      ]
     },
     "execution_count": 24,
     "metadata": {},
     "output_type": "execute_result"
    }
   ],
   "source": [
    "var unitcircle={r:1};//一个用来继承的对象\n",
    "var c=inherit(unitcircle);//c继承属性r\n",
    "c.x=1;c.y=1;//c定义两个属性\n",
    "c.r=2;//c覆盖继承来的属性\n",
    "unitcircle.r;//=＞1，原型对象没有修改"
   ]
  },
  {
   "cell_type": "code",
   "execution_count": 25,
   "metadata": {},
   "outputs": [
    {
     "data": {
      "text/plain": [
       "2"
      ]
     },
     "execution_count": 25,
     "metadata": {},
     "output_type": "execute_result"
    }
   ],
   "source": [
    "c.r"
   ]
  },
  {
   "cell_type": "code",
   "execution_count": 26,
   "metadata": {},
   "outputs": [
    {
     "data": {
      "text/plain": [
       "1"
      ]
     },
     "execution_count": 26,
     "metadata": {},
     "output_type": "execute_result"
    }
   ],
   "source": [
    "unitcircle.r"
   ]
  },
  {
   "cell_type": "code",
   "execution_count": 28,
   "metadata": {},
   "outputs": [],
   "source": [
    "var o={//普通的数据属性\n",
    "data_prop:10,//存取器属性都是成对定义的函数\n",
    "get accessor_prop(){/*这里是函数体*/},\n",
    "set accessor_prop(value){/*这里是函数体*/}\n",
    "};"
   ]
  },
  {
   "cell_type": "code",
   "execution_count": 29,
   "metadata": {},
   "outputs": [
    {
     "data": {
      "text/plain": [
       "{ data_prop: 10, accessor_prop: [Getter/Setter] }"
      ]
     },
     "execution_count": 29,
     "metadata": {},
     "output_type": "execute_result"
    }
   ],
   "source": [
    "o"
   ]
  },
  {
   "cell_type": "code",
   "execution_count": 30,
   "metadata": {},
   "outputs": [],
   "source": [
    "var o = {data_prop:10}"
   ]
  },
  {
   "cell_type": "code",
   "execution_count": 33,
   "metadata": {},
   "outputs": [],
   "source": [
    "var o = {money: 10, get get_money(){return this.money + 10}, set set_money(value){ this.money = 11}}"
   ]
  },
  {
   "cell_type": "code",
   "execution_count": null,
   "metadata": {},
   "outputs": [],
   "source": []
  },
  {
   "cell_type": "code",
   "execution_count": null,
   "metadata": {},
   "outputs": [],
   "source": []
  },
  {
   "cell_type": "code",
   "execution_count": null,
   "metadata": {},
   "outputs": [],
   "source": []
  },
  {
   "cell_type": "code",
   "execution_count": null,
   "metadata": {},
   "outputs": [],
   "source": []
  },
  {
   "cell_type": "code",
   "execution_count": null,
   "metadata": {},
   "outputs": [],
   "source": []
  },
  {
   "cell_type": "code",
   "execution_count": null,
   "metadata": {},
   "outputs": [],
   "source": []
  },
  {
   "cell_type": "code",
   "execution_count": null,
   "metadata": {},
   "outputs": [],
   "source": []
  },
  {
   "cell_type": "code",
   "execution_count": 11,
   "metadata": {},
   "outputs": [],
   "source": [
    "\n"
   ]
  },
  {
   "cell_type": "code",
   "execution_count": 14,
   "metadata": {},
   "outputs": [],
   "source": [
    "\n",
    "\n",
    "\n",
    "\n"
   ]
  },
  {
   "cell_type": "code",
   "execution_count": null,
   "metadata": {},
   "outputs": [],
   "source": []
  },
  {
   "cell_type": "code",
   "execution_count": null,
   "metadata": {},
   "outputs": [],
   "source": []
  },
  {
   "cell_type": "code",
   "execution_count": null,
   "metadata": {},
   "outputs": [],
   "source": []
  },
  {
   "cell_type": "code",
   "execution_count": null,
   "metadata": {},
   "outputs": [],
   "source": []
  },
  {
   "cell_type": "code",
   "execution_count": null,
   "metadata": {},
   "outputs": [],
   "source": []
  },
  {
   "cell_type": "code",
   "execution_count": null,
   "metadata": {},
   "outputs": [],
   "source": []
  },
  {
   "cell_type": "code",
   "execution_count": null,
   "metadata": {},
   "outputs": [],
   "source": []
  },
  {
   "cell_type": "code",
   "execution_count": null,
   "metadata": {},
   "outputs": [],
   "source": []
  },
  {
   "cell_type": "code",
   "execution_count": null,
   "metadata": {},
   "outputs": [],
   "source": []
  },
  {
   "cell_type": "code",
   "execution_count": null,
   "metadata": {},
   "outputs": [],
   "source": []
  },
  {
   "cell_type": "code",
   "execution_count": null,
   "metadata": {},
   "outputs": [],
   "source": []
  },
  {
   "cell_type": "code",
   "execution_count": null,
   "metadata": {},
   "outputs": [],
   "source": []
  }
 ],
 "metadata": {
  "kernelspec": {
   "display_name": "Javascript (Node.js)",
   "language": "javascript",
   "name": "javascript"
  },
  "language_info": {
   "file_extension": ".js",
   "mimetype": "application/javascript",
   "name": "javascript",
   "version": "6.11.3"
  }
 },
 "nbformat": 4,
 "nbformat_minor": 2
}
